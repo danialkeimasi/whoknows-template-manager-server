{
 "cells": [
  {
   "cell_type": "code",
   "execution_count": 8,
   "metadata": {},
   "outputs": [
    {
     "data": {
      "text/plain": [
       "8"
      ]
     },
     "execution_count": 8,
     "metadata": {},
     "output_type": "execute_result"
    }
   ],
   "source": [
    "class Config:\n",
    "    y = 8\n",
    "    @property\n",
    "    def x(self):\n",
    "        return 1\n",
    "    \n",
    "a = Config()\n",
    "\n",
    "Config.y"
   ]
  },
  {
   "cell_type": "code",
   "execution_count": 33,
   "metadata": {},
   "outputs": [
    {
     "name": "stdout",
     "output_type": "stream",
     "text": [
      "81.70163440704346\n"
     ]
    }
   ],
   "source": [
    "import json\n",
    "import pandas as pd\n",
    "import sys\n",
    "from time import sleep\n",
    "name = ['footballPlayerdb11', 'actordb', ][-1]\n",
    "\n",
    "df = pd.DataFrame(json.load(open(f'/home/flc/guessit/datasets/{name}.json', encoding='utf-8')))\n",
    "print(sys.getsizeof(df) / 2 ** 20)\n",
    "sleep(10)\n",
    "df.to_csv(f'/home/flc/guessit/datasets/{name}.csv')\n"
   ]
  },
  {
   "cell_type": "code",
   "execution_count": 34,
   "metadata": {},
   "outputs": [
    {
     "name": "stdout",
     "output_type": "stream",
     "text": [
      "82.1576509475708\n"
     ]
    }
   ],
   "source": [
    "import json\n",
    "import pandas as pd\n",
    "name = ['footballPlayerdb11', 'actordb'][1]\n",
    "\n",
    "df = pd.read_csv(f'/home/flc/guessit/datasets/{name}.csv', encoding='utf-8')\n",
    "print(sys.getsizeof(df) / 2 ** 20)\n",
    "df.to_json(f'/home/flc/guessit/datasets/{name}.json')\n"
   ]
  },
  {
   "cell_type": "code",
   "execution_count": null,
   "metadata": {},
   "outputs": [],
   "source": []
  }
 ],
 "metadata": {
  "kernelspec": {
   "display_name": "Python 3",
   "language": "python",
   "name": "python3"
  },
  "language_info": {
   "codemirror_mode": {
    "name": "ipython",
    "version": 3
   },
   "file_extension": ".py",
   "mimetype": "text/x-python",
   "name": "python",
   "nbconvert_exporter": "python",
   "pygments_lexer": "ipython3",
   "version": "3.6.7"
  }
 },
 "nbformat": 4,
 "nbformat_minor": 2
}
